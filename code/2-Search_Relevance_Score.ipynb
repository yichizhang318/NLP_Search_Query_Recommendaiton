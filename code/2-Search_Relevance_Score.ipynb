{
 "cells": [
  {
   "cell_type": "markdown",
   "metadata": {},
   "source": [
    "**Components of Internal Search**\n",
    "- Efficient indexing: used to quickly locate data without having to search every row in a database table every time a database table is accessed\n",
    "- Attribute ranking rules: rank results by their expected relevance to a user's query using a combination of query-dependent and query-independent methods\n",
    "- **Fuzzy query matching**: approximate string matches (e.g. “rmabo” vs “rambo”)\n",
    "- Stemming: getting words to match each other even if they are not in the exact same form (e.g. run/runs/running/ran or cat/cats)\n",
    "- Tokenization: the process of breaking a stream of text up into words, phrases, symbols, or other meaningful elements called tokens"
   ]
  },
  {
   "cell_type": "markdown",
   "metadata": {},
   "source": [
    "**Feature Extraction** "
   ]
  },
  {
   "cell_type": "markdown",
   "metadata": {
    "cell_style": "split"
   },
   "source": [
    "Counting features: \n",
    "- length of query\n",
    "- length of title\n",
    "- length of description\n",
    "- length of brand\n",
    "- number of common grams between query and title\n",
    "- number of common grams between query and description\n",
    "- number of common grams between query and brand."
   ]
  },
  {
   "cell_type": "markdown",
   "metadata": {
    "cell_style": "split"
   },
   "source": [
    "Statistical features: \n",
    "- ratio of title length to query length\n",
    "- ratio of description length to query length\n",
    "- ratio of title and query common word"
   ]
  },
  {
   "cell_type": "markdown",
   "metadata": {
    "heading_collapsed": true
   },
   "source": [
    "###### Load Data"
   ]
  },
  {
   "cell_type": "code",
   "execution_count": 73,
   "metadata": {
    "hidden": true
   },
   "outputs": [
    {
     "name": "stdout",
     "output_type": "stream",
     "text": [
      "[nltk_data] Downloading package wordnet to\n",
      "[nltk_data]     C:\\Users\\yichi\\AppData\\Roaming\\nltk_data...\n",
      "[nltk_data]   Package wordnet is already up-to-date!\n"
     ]
    }
   ],
   "source": [
    "# import sample_df\n",
    "import pickle\n",
    "import numpy as np\n",
    "import pandas as pd\n",
    "import matplotlib.pyplot as plt\n",
    "# from matplotlib.figure import Figure\n",
    "import seaborn as sns\n",
    "%matplotlib inline\n",
    "from wordcloud import WordCloud, STOPWORDS \n",
    "\n",
    "import re\n",
    "import string\n",
    "from nltk.corpus import stopwords\n",
    "import nltk\n",
    "nltk.download('wordnet')\n",
    "from nltk.stem import WordNetLemmatizer\n",
    "\n",
    "from sklearn.feature_extraction.text import TfidfVectorizer\n",
    "from sklearn.decomposition import TruncatedSVD\n",
    "from sklearn.decomposition import NMF\n",
    "from gensim import corpora, models, similarities, matutils\n",
    "\n",
    "from corextopic import corextopic as ct\n",
    "from corextopic import vis_topic as vt"
   ]
  },
  {
   "cell_type": "code",
   "execution_count": 2,
   "metadata": {
    "hidden": true
   },
   "outputs": [],
   "source": [
    "# import sample train_df\n",
    "with open('pickle/full_description.pkl', 'rb') as picklefile: \n",
    "    description_df = pickle.load(picklefile)\n",
    "\n",
    "# load train dataset\n",
    "df_train = pd.read_csv('home-depot-product-search-relevance/train.csv', encoding=\"ISO-8859-1\")\n",
    "\n",
    "# combine search query and description dataframe\n",
    "df_all = pd.merge(df_train, description_df, how='left', on='product_uid')"
   ]
  },
  {
   "cell_type": "code",
   "execution_count": 3,
   "metadata": {
    "hidden": true
   },
   "outputs": [
    {
     "data": {
      "text/plain": [
       "(74067, 7)"
      ]
     },
     "execution_count": 3,
     "metadata": {},
     "output_type": "execute_result"
    }
   ],
   "source": [
    "df_all.shape"
   ]
  },
  {
   "cell_type": "markdown",
   "metadata": {
    "heading_collapsed": true
   },
   "source": [
    "###### Feature Extraction"
   ]
  },
  {
   "cell_type": "code",
   "execution_count": 4,
   "metadata": {
    "hidden": true
   },
   "outputs": [],
   "source": [
    "df_all['len_searchTerm'] = df_all['search_term'].apply(lambda x:len(x.split())).astype(np.int64)\n",
    "df_all['len_title'] = df_all['product_title'].apply(lambda x:len(x.split())).astype(np.int64)\n",
    "df_all['len_description'] = df_all['product_description'].apply(lambda x:len(x.split())).astype(np.int64)\n",
    "\n",
    "# The ratio of product description word length to search term word length\n",
    "df_all['query_desc_len_ratio']=df_all['len_description']/df_all['len_searchTerm']\n",
    "\n",
    "# The ratio of product title word length to search term word length\n",
    "df_all['query_title_len_ratio']=df_all['len_title']/df_all['len_searchTerm']"
   ]
  },
  {
   "cell_type": "code",
   "execution_count": 5,
   "metadata": {
    "hidden": true
   },
   "outputs": [
    {
     "data": {
      "text/plain": [
       "(74067, 12)"
      ]
     },
     "execution_count": 5,
     "metadata": {},
     "output_type": "execute_result"
    }
   ],
   "source": [
    "df_all.shape"
   ]
  },
  {
   "cell_type": "markdown",
   "metadata": {},
   "source": [
    "###### Tokenize product_title"
   ]
  },
  {
   "cell_type": "code",
   "execution_count": 6,
   "metadata": {},
   "outputs": [],
   "source": [
    "# lower case all product titles\n",
    "alphanumeric = lambda x: re.sub('\\w*\\d\\w*', ' ', x)\n",
    "punc_lower = lambda x: re.sub('[%s]' % re.escape(string.punctuation), ' ', x.lower())\n",
    "df_all['title_words'] = df_all['product_title'].map(alphanumeric).map(punc_lower)\n",
    "df_all['search_term'] = df_all['search_term'].map(alphanumeric).map(punc_lower)"
   ]
  },
  {
   "cell_type": "code",
   "execution_count": 7,
   "metadata": {
    "scrolled": true
   },
   "outputs": [
    {
     "data": {
      "text/plain": [
       "'wall control   in  metal pegboard utility tool storage kit with galvanized steel pegboard and black accessories'"
      ]
     },
     "execution_count": 7,
     "metadata": {},
     "output_type": "execute_result"
    }
   ],
   "source": [
    "df_all['title_words'].iloc[25500]"
   ]
  },
  {
   "cell_type": "code",
   "execution_count": 8,
   "metadata": {},
   "outputs": [],
   "source": [
    "# rearrange columns\n",
    "columns = df_all.columns.tolist()\n",
    "columns = columns[:3] + columns[-1:] + columns[3:12]\n",
    "df_all = df_all[columns]"
   ]
  },
  {
   "cell_type": "code",
   "execution_count": 9,
   "metadata": {},
   "outputs": [
    {
     "data": {
      "text/html": [
       "<div>\n",
       "<style scoped>\n",
       "    .dataframe tbody tr th:only-of-type {\n",
       "        vertical-align: middle;\n",
       "    }\n",
       "\n",
       "    .dataframe tbody tr th {\n",
       "        vertical-align: top;\n",
       "    }\n",
       "\n",
       "    .dataframe thead th {\n",
       "        text-align: right;\n",
       "    }\n",
       "</style>\n",
       "<table border=\"1\" class=\"dataframe\">\n",
       "  <thead>\n",
       "    <tr style=\"text-align: right;\">\n",
       "      <th></th>\n",
       "      <th>id</th>\n",
       "      <th>product_uid</th>\n",
       "      <th>product_title</th>\n",
       "      <th>title_words</th>\n",
       "      <th>search_term</th>\n",
       "      <th>relevance</th>\n",
       "      <th>product_description</th>\n",
       "      <th>description_words</th>\n",
       "      <th>len_searchTerm</th>\n",
       "      <th>len_title</th>\n",
       "      <th>len_description</th>\n",
       "      <th>query_desc_len_ratio</th>\n",
       "      <th>query_title_len_ratio</th>\n",
       "    </tr>\n",
       "  </thead>\n",
       "  <tbody>\n",
       "    <tr>\n",
       "      <th>0</th>\n",
       "      <td>2</td>\n",
       "      <td>100001</td>\n",
       "      <td>Simpson Strong-Tie 12-Gauge Angle</td>\n",
       "      <td>simpson strong tie   gauge angle</td>\n",
       "      <td>angle bracket</td>\n",
       "      <td>3.00</td>\n",
       "      <td>Not only do angles make joints stronger, they ...</td>\n",
       "      <td>angle joint stronger also provide consistent s...</td>\n",
       "      <td>2</td>\n",
       "      <td>4</td>\n",
       "      <td>129</td>\n",
       "      <td>64.500000</td>\n",
       "      <td>2.000000</td>\n",
       "    </tr>\n",
       "    <tr>\n",
       "      <th>1</th>\n",
       "      <td>3</td>\n",
       "      <td>100001</td>\n",
       "      <td>Simpson Strong-Tie 12-Gauge Angle</td>\n",
       "      <td>simpson strong tie   gauge angle</td>\n",
       "      <td>l bracket</td>\n",
       "      <td>2.50</td>\n",
       "      <td>Not only do angles make joints stronger, they ...</td>\n",
       "      <td>angle joint stronger also provide consistent s...</td>\n",
       "      <td>2</td>\n",
       "      <td>4</td>\n",
       "      <td>129</td>\n",
       "      <td>64.500000</td>\n",
       "      <td>2.000000</td>\n",
       "    </tr>\n",
       "    <tr>\n",
       "      <th>2</th>\n",
       "      <td>9</td>\n",
       "      <td>100002</td>\n",
       "      <td>BEHR Premium Textured DeckOver 1-gal. #SC-141 ...</td>\n",
       "      <td>behr premium textured deckover   gal   sc   tu...</td>\n",
       "      <td>deck over</td>\n",
       "      <td>3.00</td>\n",
       "      <td>BEHR Premium Textured DECKOVER is an innovativ...</td>\n",
       "      <td>hr premium textured deck innovative solid colo...</td>\n",
       "      <td>2</td>\n",
       "      <td>11</td>\n",
       "      <td>167</td>\n",
       "      <td>83.500000</td>\n",
       "      <td>5.500000</td>\n",
       "    </tr>\n",
       "    <tr>\n",
       "      <th>3</th>\n",
       "      <td>16</td>\n",
       "      <td>100005</td>\n",
       "      <td>Delta Vero 1-Handle Shower Only Faucet Trim Ki...</td>\n",
       "      <td>delta vero   handle shower only faucet trim ki...</td>\n",
       "      <td>rain shower head</td>\n",
       "      <td>2.33</td>\n",
       "      <td>Update your bathroom with the Delta Vero Singl...</td>\n",
       "      <td>update bathroom delta vero handle shower fauce...</td>\n",
       "      <td>3</td>\n",
       "      <td>13</td>\n",
       "      <td>104</td>\n",
       "      <td>34.666667</td>\n",
       "      <td>4.333333</td>\n",
       "    </tr>\n",
       "    <tr>\n",
       "      <th>4</th>\n",
       "      <td>17</td>\n",
       "      <td>100005</td>\n",
       "      <td>Delta Vero 1-Handle Shower Only Faucet Trim Ki...</td>\n",
       "      <td>delta vero   handle shower only faucet trim ki...</td>\n",
       "      <td>shower only faucet</td>\n",
       "      <td>2.67</td>\n",
       "      <td>Update your bathroom with the Delta Vero Singl...</td>\n",
       "      <td>update bathroom delta vero handle shower fauce...</td>\n",
       "      <td>3</td>\n",
       "      <td>13</td>\n",
       "      <td>104</td>\n",
       "      <td>34.666667</td>\n",
       "      <td>4.333333</td>\n",
       "    </tr>\n",
       "  </tbody>\n",
       "</table>\n",
       "</div>"
      ],
      "text/plain": [
       "   id  product_uid                                      product_title  \\\n",
       "0   2       100001                  Simpson Strong-Tie 12-Gauge Angle   \n",
       "1   3       100001                  Simpson Strong-Tie 12-Gauge Angle   \n",
       "2   9       100002  BEHR Premium Textured DeckOver 1-gal. #SC-141 ...   \n",
       "3  16       100005  Delta Vero 1-Handle Shower Only Faucet Trim Ki...   \n",
       "4  17       100005  Delta Vero 1-Handle Shower Only Faucet Trim Ki...   \n",
       "\n",
       "                                         title_words         search_term  \\\n",
       "0                   simpson strong tie   gauge angle       angle bracket   \n",
       "1                   simpson strong tie   gauge angle           l bracket   \n",
       "2  behr premium textured deckover   gal   sc   tu...           deck over   \n",
       "3  delta vero   handle shower only faucet trim ki...    rain shower head   \n",
       "4  delta vero   handle shower only faucet trim ki...  shower only faucet   \n",
       "\n",
       "   relevance                                product_description  \\\n",
       "0       3.00  Not only do angles make joints stronger, they ...   \n",
       "1       2.50  Not only do angles make joints stronger, they ...   \n",
       "2       3.00  BEHR Premium Textured DECKOVER is an innovativ...   \n",
       "3       2.33  Update your bathroom with the Delta Vero Singl...   \n",
       "4       2.67  Update your bathroom with the Delta Vero Singl...   \n",
       "\n",
       "                                   description_words  len_searchTerm  \\\n",
       "0  angle joint stronger also provide consistent s...               2   \n",
       "1  angle joint stronger also provide consistent s...               2   \n",
       "2  hr premium textured deck innovative solid colo...               2   \n",
       "3  update bathroom delta vero handle shower fauce...               3   \n",
       "4  update bathroom delta vero handle shower fauce...               3   \n",
       "\n",
       "   len_title  len_description  query_desc_len_ratio  query_title_len_ratio  \n",
       "0          4              129             64.500000               2.000000  \n",
       "1          4              129             64.500000               2.000000  \n",
       "2         11              167             83.500000               5.500000  \n",
       "3         13              104             34.666667               4.333333  \n",
       "4         13              104             34.666667               4.333333  "
      ]
     },
     "execution_count": 9,
     "metadata": {},
     "output_type": "execute_result"
    }
   ],
   "source": [
    "df_all.head()"
   ]
  },
  {
   "cell_type": "markdown",
   "metadata": {
    "heading_collapsed": true
   },
   "source": [
    "###### EDA"
   ]
  },
  {
   "cell_type": "markdown",
   "metadata": {
    "hidden": true
   },
   "source": [
    "*Relevancy score is about intend, not word matching!!!*"
   ]
  },
  {
   "cell_type": "code",
   "execution_count": 10,
   "metadata": {
    "hidden": true
   },
   "outputs": [
    {
     "data": {
      "text/plain": [
       "(11909, 13)"
      ]
     },
     "execution_count": 10,
     "metadata": {},
     "output_type": "execute_result"
    }
   ],
   "source": [
    "irrelevant_match = df_all[df_all['relevance'] < 2]\n",
    "irrelevant_match.shape"
   ]
  },
  {
   "cell_type": "code",
   "execution_count": 11,
   "metadata": {
    "hidden": true
   },
   "outputs": [
    {
     "data": {
      "text/plain": [
       "(19125, 13)"
      ]
     },
     "execution_count": 11,
     "metadata": {},
     "output_type": "execute_result"
    }
   ],
   "source": [
    "perfect_match = df_all[df_all['relevance'] == 3]\n",
    "perfect_match.shape"
   ]
  },
  {
   "cell_type": "markdown",
   "metadata": {
    "hidden": true
   },
   "source": [
    "Vague and short queries tend to get less relevant search result compared to longer and more concise queries"
   ]
  },
  {
   "cell_type": "code",
   "execution_count": 106,
   "metadata": {
    "hidden": true
   },
   "outputs": [
    {
     "data": {
      "image/png": "[encoded data removed]",
      "text/plain": [
       "<Figure size 1008x576 with 1 Axes>"
      ]
     },
     "metadata": {
      "needs_background": "light"
     },
     "output_type": "display_data"
    }
   ],
   "source": [
    "plt.figure(figsize=(14,8))\n",
    "sns.distplot(irrelevant_match['len_searchTerm'])\n",
    "sns.distplot(perfect_match['len_searchTerm'])\n",
    "fig1 = plt.gcf()\n",
    "fig1.savefig(\"pics/perfectmatch_irrelevance_searchlen.png\")"
   ]
  },
  {
   "cell_type": "markdown",
   "metadata": {
    "hidden": true
   },
   "source": [
    "Compare Query/**Title length** ratio"
   ]
  },
  {
   "cell_type": "code",
   "execution_count": 107,
   "metadata": {
    "hidden": true,
    "scrolled": true
   },
   "outputs": [
    {
     "data": {
      "image/png": "[encoded data removed]",
      "text/plain": [
       "<Figure size 1008x576 with 1 Axes>"
      ]
     },
     "metadata": {
      "needs_background": "light"
     },
     "output_type": "display_data"
    }
   ],
   "source": [
    "plt.figure(figsize=(14,8))\n",
    "sns.distplot(irrelevant_match['query_desc_len_ratio'])\n",
    "sns.distplot(perfect_match['query_desc_len_ratio'])\n",
    "fig1 = plt.gcf()\n",
    "fig1.savefig(\"pics/perfectmatch_irrelevance_query_desc_ratio.png\")"
   ]
  },
  {
   "cell_type": "code",
   "execution_count": 15,
   "metadata": {
    "hidden": true,
    "scrolled": false
   },
   "outputs": [
    {
     "data": {
      "text/plain": [
       "(74067, 6)"
      ]
     },
     "execution_count": 15,
     "metadata": {},
     "output_type": "execute_result"
    }
   ],
   "source": [
    "# correlation\n",
    "cor_df = (df_all[['relevance','len_searchTerm', 'len_title', 'len_description',\n",
    "       'query_desc_len_ratio', 'query_title_len_ratio']])\n",
    "cor_df.shape"
   ]
  },
  {
   "cell_type": "code",
   "execution_count": 108,
   "metadata": {
    "hidden": true
   },
   "outputs": [
    {
     "data": {
      "image/png": "[encoded data removed]",
      "text/plain": [
       "<Figure size 1368x1080 with 2 Axes>"
      ]
     },
     "metadata": {
      "needs_background": "light"
     },
     "output_type": "display_data"
    }
   ],
   "source": [
    "f = plt.figure(figsize=(19, 15))\n",
    "plt.matshow(cor_df.corr(), fignum=f.number)\n",
    "plt.xticks(range(cor_df.shape[1]), cor_df.columns, fontsize=14, rotation=45)\n",
    "plt.yticks(range(cor_df.shape[1]), cor_df.columns, fontsize=14)\n",
    "cb = plt.colorbar()\n",
    "cb.ax.tick_params(labelsize=14)\n",
    "fig1 = plt.gcf()\n",
    "fig1.savefig(\"pics/correlation.png\")"
   ]
  },
  {
   "cell_type": "code",
   "execution_count": 103,
   "metadata": {
    "hidden": true
   },
   "outputs": [],
   "source": [
    "stopwords = set(STOPWORDS)\n",
    "\n",
    "def show_wordcloud(data, title = None):\n",
    "    wordcloud = WordCloud(\n",
    "        background_color='white',\n",
    "        stopwords=stopwords,\n",
    "        max_words=200,\n",
    "        max_font_size=40 \n",
    "#         scale=3,\n",
    "#         random_state=1\n",
    "    ).generate(str(data))\n",
    "\n",
    "    fig = plt.figure(1, figsize=(12, 12))\n",
    "    plt.axis('off')\n",
    "    if title: \n",
    "        fig.suptitle(title, fontsize=20)\n",
    "        fig.subplots_adjust(top=2.3)\n",
    "\n",
    "    plt.imshow(wordcloud)\n",
    "    fig1 = plt.gcf()\n",
    "    plt.show()\n",
    "    fig1.savefig(\"search_queries.png\")"
   ]
  },
  {
   "cell_type": "code",
   "execution_count": 105,
   "metadata": {
    "hidden": true
   },
   "outputs": [
    {
     "data": {
      "image/png": "[encoded data removed]",
      "text/plain": [
       "<Figure size 864x864 with 1 Axes>"
      ]
     },
     "metadata": {
      "needs_background": "light"
     },
     "output_type": "display_data"
    }
   ],
   "source": [
    "show_wordcloud(df_all['title_words'])"
   ]
  },
  {
   "cell_type": "markdown",
   "metadata": {
    "heading_collapsed": true
   },
   "source": [
    "###### Top Searched Products with *Search_term*"
   ]
  },
  {
   "cell_type": "code",
   "execution_count": 46,
   "metadata": {
    "hidden": true
   },
   "outputs": [
    {
     "data": {
      "text/html": [
       "<div>\n",
       "<style scoped>\n",
       "    .dataframe tbody tr th:only-of-type {\n",
       "        vertical-align: middle;\n",
       "    }\n",
       "\n",
       "    .dataframe tbody tr th {\n",
       "        vertical-align: top;\n",
       "    }\n",
       "\n",
       "    .dataframe thead th {\n",
       "        text-align: right;\n",
       "    }\n",
       "</style>\n",
       "<table border=\"1\" class=\"dataframe\">\n",
       "  <thead>\n",
       "    <tr style=\"text-align: right;\">\n",
       "      <th></th>\n",
       "      <th>air</th>\n",
       "      <th>bar</th>\n",
       "      <th>base</th>\n",
       "      <th>bath</th>\n",
       "      <th>bathroom</th>\n",
       "      <th>battery</th>\n",
       "      <th>bay</th>\n",
       "      <th>black</th>\n",
       "      <th>bronze</th>\n",
       "      <th>bulb</th>\n",
       "      <th>...</th>\n",
       "      <th>tub</th>\n",
       "      <th>vanity</th>\n",
       "      <th>vinyl</th>\n",
       "      <th>wall</th>\n",
       "      <th>washer</th>\n",
       "      <th>water</th>\n",
       "      <th>white</th>\n",
       "      <th>window</th>\n",
       "      <th>wire</th>\n",
       "      <th>wood</th>\n",
       "    </tr>\n",
       "  </thead>\n",
       "  <tbody>\n",
       "    <tr>\n",
       "      <th>0</th>\n",
       "      <td>0.0</td>\n",
       "      <td>0.0</td>\n",
       "      <td>0.0</td>\n",
       "      <td>0.0</td>\n",
       "      <td>0.0</td>\n",
       "      <td>0.0</td>\n",
       "      <td>0.0</td>\n",
       "      <td>0.0</td>\n",
       "      <td>0.0</td>\n",
       "      <td>0.0</td>\n",
       "      <td>...</td>\n",
       "      <td>0.0</td>\n",
       "      <td>0.0</td>\n",
       "      <td>0.0</td>\n",
       "      <td>0.0</td>\n",
       "      <td>0.0</td>\n",
       "      <td>0.0</td>\n",
       "      <td>0.0</td>\n",
       "      <td>0.0</td>\n",
       "      <td>0.0</td>\n",
       "      <td>0.0</td>\n",
       "    </tr>\n",
       "    <tr>\n",
       "      <th>1</th>\n",
       "      <td>0.0</td>\n",
       "      <td>0.0</td>\n",
       "      <td>0.0</td>\n",
       "      <td>0.0</td>\n",
       "      <td>0.0</td>\n",
       "      <td>0.0</td>\n",
       "      <td>0.0</td>\n",
       "      <td>0.0</td>\n",
       "      <td>0.0</td>\n",
       "      <td>0.0</td>\n",
       "      <td>...</td>\n",
       "      <td>0.0</td>\n",
       "      <td>0.0</td>\n",
       "      <td>0.0</td>\n",
       "      <td>0.0</td>\n",
       "      <td>0.0</td>\n",
       "      <td>0.0</td>\n",
       "      <td>0.0</td>\n",
       "      <td>0.0</td>\n",
       "      <td>0.0</td>\n",
       "      <td>0.0</td>\n",
       "    </tr>\n",
       "    <tr>\n",
       "      <th>2</th>\n",
       "      <td>0.0</td>\n",
       "      <td>0.0</td>\n",
       "      <td>0.0</td>\n",
       "      <td>0.0</td>\n",
       "      <td>0.0</td>\n",
       "      <td>0.0</td>\n",
       "      <td>0.0</td>\n",
       "      <td>0.0</td>\n",
       "      <td>0.0</td>\n",
       "      <td>0.0</td>\n",
       "      <td>...</td>\n",
       "      <td>0.0</td>\n",
       "      <td>0.0</td>\n",
       "      <td>0.0</td>\n",
       "      <td>0.0</td>\n",
       "      <td>0.0</td>\n",
       "      <td>0.0</td>\n",
       "      <td>0.0</td>\n",
       "      <td>0.0</td>\n",
       "      <td>0.0</td>\n",
       "      <td>0.0</td>\n",
       "    </tr>\n",
       "    <tr>\n",
       "      <th>3</th>\n",
       "      <td>0.0</td>\n",
       "      <td>0.0</td>\n",
       "      <td>0.0</td>\n",
       "      <td>0.0</td>\n",
       "      <td>0.0</td>\n",
       "      <td>0.0</td>\n",
       "      <td>0.0</td>\n",
       "      <td>0.0</td>\n",
       "      <td>0.0</td>\n",
       "      <td>0.0</td>\n",
       "      <td>...</td>\n",
       "      <td>0.0</td>\n",
       "      <td>0.0</td>\n",
       "      <td>0.0</td>\n",
       "      <td>0.0</td>\n",
       "      <td>0.0</td>\n",
       "      <td>0.0</td>\n",
       "      <td>0.0</td>\n",
       "      <td>0.0</td>\n",
       "      <td>0.0</td>\n",
       "      <td>0.0</td>\n",
       "    </tr>\n",
       "    <tr>\n",
       "      <th>4</th>\n",
       "      <td>0.0</td>\n",
       "      <td>0.0</td>\n",
       "      <td>0.0</td>\n",
       "      <td>0.0</td>\n",
       "      <td>0.0</td>\n",
       "      <td>0.0</td>\n",
       "      <td>0.0</td>\n",
       "      <td>0.0</td>\n",
       "      <td>0.0</td>\n",
       "      <td>0.0</td>\n",
       "      <td>...</td>\n",
       "      <td>0.0</td>\n",
       "      <td>0.0</td>\n",
       "      <td>0.0</td>\n",
       "      <td>0.0</td>\n",
       "      <td>0.0</td>\n",
       "      <td>0.0</td>\n",
       "      <td>0.0</td>\n",
       "      <td>0.0</td>\n",
       "      <td>0.0</td>\n",
       "      <td>0.0</td>\n",
       "    </tr>\n",
       "  </tbody>\n",
       "</table>\n",
       "<p>5 rows × 75 columns</p>\n",
       "</div>"
      ],
      "text/plain": [
       "   air  bar  base  bath  bathroom  battery  bay  black  bronze  bulb  ...  \\\n",
       "0  0.0  0.0   0.0   0.0       0.0      0.0  0.0    0.0     0.0   0.0  ...   \n",
       "1  0.0  0.0   0.0   0.0       0.0      0.0  0.0    0.0     0.0   0.0  ...   \n",
       "2  0.0  0.0   0.0   0.0       0.0      0.0  0.0    0.0     0.0   0.0  ...   \n",
       "3  0.0  0.0   0.0   0.0       0.0      0.0  0.0    0.0     0.0   0.0  ...   \n",
       "4  0.0  0.0   0.0   0.0       0.0      0.0  0.0    0.0     0.0   0.0  ...   \n",
       "\n",
       "   tub  vanity  vinyl  wall  washer  water  white  window  wire  wood  \n",
       "0  0.0     0.0    0.0   0.0     0.0    0.0    0.0     0.0   0.0   0.0  \n",
       "1  0.0     0.0    0.0   0.0     0.0    0.0    0.0     0.0   0.0   0.0  \n",
       "2  0.0     0.0    0.0   0.0     0.0    0.0    0.0     0.0   0.0   0.0  \n",
       "3  0.0     0.0    0.0   0.0     0.0    0.0    0.0     0.0   0.0   0.0  \n",
       "4  0.0     0.0    0.0   0.0     0.0    0.0    0.0     0.0   0.0   0.0  \n",
       "\n",
       "[5 rows x 75 columns]"
      ]
     },
     "execution_count": 46,
     "metadata": {},
     "output_type": "execute_result"
    }
   ],
   "source": [
    "# TF-IDF\n",
    "\n",
    "tfidf = TfidfVectorizer(stop_words='english', min_df=0.005, max_df=0.8)\n",
    "search_words = tfidf.fit_transform(df_all.search_term)\n",
    "\n",
    "pd.DataFrame(search_words.toarray(), columns=tfidf.get_feature_names()).head()"
   ]
  },
  {
   "cell_type": "code",
   "execution_count": 48,
   "metadata": {
    "hidden": true
   },
   "outputs": [
    {
     "name": "stdout",
     "output_type": "stream",
     "text": [
      "['air', 'bar', 'base', 'bath', 'bathroom', 'battery', 'bay', 'black', 'bronze', 'bulb', 'cabinet', 'cabinets', 'ceiling', 'cover', 'dewalt', 'door', 'doors', 'double', 'drill', 'electric', 'exterior', 'fan', 'faucet', 'fence', 'filter', 'floor', 'ft', 'gas', 'glass', 'heater', 'hose', 'inch', 'interior', 'kit', 'kitchen', 'led', 'light', 'lighting', 'lights', 'metal', 'outdoor', 'paint', 'panel', 'patio', 'pipe', 'plastic', 'post', 'pvc', 'range', 'replacement', 'round', 'saw', 'set', 'shower', 'sink', 'spray', 'stainless', 'steel', 'stone', 'storage', 'table', 'tile', 'toilet', 'tool', 'trim', 'tub', 'vanity', 'vinyl', 'wall', 'washer', 'water', 'white', 'window', 'wire', 'wood']\n"
     ]
    }
   ],
   "source": [
    "print(tfidf.get_feature_names())"
   ]
  },
  {
   "cell_type": "code",
   "execution_count": 72,
   "metadata": {
    "hidden": true
   },
   "outputs": [
    {
     "name": "stdout",
     "output_type": "stream",
     "text": [
      "0: door,tile,interior,floor,glass,outdoor,air,doors,pipe,fan\n",
      "1: shower,tub,bronze,kit,base,cabinet,drill,plastic\n",
      "2: paint,spray,exterior,set,bar\n",
      "3: faucet,kitchen,bath,trim\n",
      "4: light,led,bulb,lights,lighting,ceiling,wood,window,patio,pvc\n",
      "5: vanity,bathroom,inch,sink,white,double,black\n",
      "6: saw,dewalt,table,wall\n",
      "7: water,heater,gas\n"
     ]
    }
   ],
   "source": [
    "# Corex\n",
    "doc_word = tfidf.transform(df_all.search_term)\n",
    "\n",
    "words = list(np.asarray(tfidf.get_feature_names()))\n",
    "\n",
    "topic_model = ct.Corex(n_hidden=8, words=words,\n",
    "                       max_iter=200, verbose=False, seed=1)\n",
    "\n",
    "topic_model.fit(doc_word, words=words, docs=df_all.search_term, \n",
    "                anchors=[['door', 'tile'], \n",
    "                         ['shower'], \n",
    "                         ['paint'], \n",
    "                         ['faucet'],\n",
    "                         ['light','bulb','led'], \n",
    "                         ['vanity'],\n",
    "                         ['saw']], anchor_strength=10)\n",
    "\n",
    "# Print all topics from the CorEx topic model\n",
    "topics = topic_model.get_topics()\n",
    "for n,topic in enumerate(topics):\n",
    "    topic_words,_ = zip(*topic)\n",
    "    print('{}: '.format(n) + ','.join(topic_words))"
   ]
  },
  {
   "cell_type": "markdown",
   "metadata": {
    "hidden": true
   },
   "source": [
    "*Top Searched Topics:*\n",
    "1. Door  2. Shower  3. Paint  4. Faucet  5. LightBulb  6. Vanity  7. Dewalt Saw  8. Water heater/Gas\n",
    "\n"
   ]
  },
  {
   "cell_type": "markdown",
   "metadata": {},
   "source": [
    "###### Topics for Irrelevent Search Matches"
   ]
  },
  {
   "cell_type": "code",
   "execution_count": 93,
   "metadata": {},
   "outputs": [
    {
     "data": {
      "text/html": [
       "<div>\n",
       "<style scoped>\n",
       "    .dataframe tbody tr th:only-of-type {\n",
       "        vertical-align: middle;\n",
       "    }\n",
       "\n",
       "    .dataframe tbody tr th {\n",
       "        vertical-align: top;\n",
       "    }\n",
       "\n",
       "    .dataframe thead th {\n",
       "        text-align: right;\n",
       "    }\n",
       "</style>\n",
       "<table border=\"1\" class=\"dataframe\">\n",
       "  <thead>\n",
       "    <tr style=\"text-align: right;\">\n",
       "      <th></th>\n",
       "      <th>air</th>\n",
       "      <th>bar</th>\n",
       "      <th>bathroom</th>\n",
       "      <th>battery</th>\n",
       "      <th>bay</th>\n",
       "      <th>black</th>\n",
       "      <th>board</th>\n",
       "      <th>cabinet</th>\n",
       "      <th>cable</th>\n",
       "      <th>ceiling</th>\n",
       "      <th>...</th>\n",
       "      <th>toilet</th>\n",
       "      <th>tool</th>\n",
       "      <th>tub</th>\n",
       "      <th>vinyl</th>\n",
       "      <th>wall</th>\n",
       "      <th>water</th>\n",
       "      <th>white</th>\n",
       "      <th>window</th>\n",
       "      <th>wire</th>\n",
       "      <th>wood</th>\n",
       "    </tr>\n",
       "  </thead>\n",
       "  <tbody>\n",
       "    <tr>\n",
       "      <th>0</th>\n",
       "      <td>0.0</td>\n",
       "      <td>0.0</td>\n",
       "      <td>0.0</td>\n",
       "      <td>0.0</td>\n",
       "      <td>0.0</td>\n",
       "      <td>0.0</td>\n",
       "      <td>0.0</td>\n",
       "      <td>0.0</td>\n",
       "      <td>0.0</td>\n",
       "      <td>0.0</td>\n",
       "      <td>...</td>\n",
       "      <td>0.0</td>\n",
       "      <td>0.0</td>\n",
       "      <td>0.0</td>\n",
       "      <td>0.0</td>\n",
       "      <td>0.0</td>\n",
       "      <td>0.0</td>\n",
       "      <td>0.0</td>\n",
       "      <td>0.0</td>\n",
       "      <td>0.0</td>\n",
       "      <td>0.0</td>\n",
       "    </tr>\n",
       "    <tr>\n",
       "      <th>1</th>\n",
       "      <td>0.0</td>\n",
       "      <td>0.0</td>\n",
       "      <td>0.0</td>\n",
       "      <td>0.0</td>\n",
       "      <td>0.0</td>\n",
       "      <td>0.0</td>\n",
       "      <td>0.0</td>\n",
       "      <td>0.0</td>\n",
       "      <td>0.0</td>\n",
       "      <td>0.0</td>\n",
       "      <td>...</td>\n",
       "      <td>0.0</td>\n",
       "      <td>0.0</td>\n",
       "      <td>0.0</td>\n",
       "      <td>0.0</td>\n",
       "      <td>0.0</td>\n",
       "      <td>0.0</td>\n",
       "      <td>0.0</td>\n",
       "      <td>0.0</td>\n",
       "      <td>0.0</td>\n",
       "      <td>0.0</td>\n",
       "    </tr>\n",
       "    <tr>\n",
       "      <th>2</th>\n",
       "      <td>0.0</td>\n",
       "      <td>0.0</td>\n",
       "      <td>0.0</td>\n",
       "      <td>0.0</td>\n",
       "      <td>0.0</td>\n",
       "      <td>0.0</td>\n",
       "      <td>0.0</td>\n",
       "      <td>0.0</td>\n",
       "      <td>0.0</td>\n",
       "      <td>0.0</td>\n",
       "      <td>...</td>\n",
       "      <td>0.0</td>\n",
       "      <td>0.0</td>\n",
       "      <td>0.0</td>\n",
       "      <td>0.0</td>\n",
       "      <td>0.0</td>\n",
       "      <td>0.0</td>\n",
       "      <td>0.0</td>\n",
       "      <td>0.0</td>\n",
       "      <td>0.0</td>\n",
       "      <td>1.0</td>\n",
       "    </tr>\n",
       "    <tr>\n",
       "      <th>3</th>\n",
       "      <td>0.0</td>\n",
       "      <td>0.0</td>\n",
       "      <td>0.0</td>\n",
       "      <td>0.0</td>\n",
       "      <td>0.0</td>\n",
       "      <td>0.0</td>\n",
       "      <td>0.0</td>\n",
       "      <td>0.0</td>\n",
       "      <td>0.0</td>\n",
       "      <td>0.0</td>\n",
       "      <td>...</td>\n",
       "      <td>0.0</td>\n",
       "      <td>0.0</td>\n",
       "      <td>0.0</td>\n",
       "      <td>0.0</td>\n",
       "      <td>0.0</td>\n",
       "      <td>0.0</td>\n",
       "      <td>0.0</td>\n",
       "      <td>0.0</td>\n",
       "      <td>0.0</td>\n",
       "      <td>0.0</td>\n",
       "    </tr>\n",
       "    <tr>\n",
       "      <th>4</th>\n",
       "      <td>0.0</td>\n",
       "      <td>0.0</td>\n",
       "      <td>0.0</td>\n",
       "      <td>0.0</td>\n",
       "      <td>0.0</td>\n",
       "      <td>0.0</td>\n",
       "      <td>0.0</td>\n",
       "      <td>0.0</td>\n",
       "      <td>0.0</td>\n",
       "      <td>0.0</td>\n",
       "      <td>...</td>\n",
       "      <td>0.0</td>\n",
       "      <td>0.0</td>\n",
       "      <td>0.0</td>\n",
       "      <td>0.0</td>\n",
       "      <td>0.0</td>\n",
       "      <td>0.0</td>\n",
       "      <td>0.0</td>\n",
       "      <td>0.0</td>\n",
       "      <td>0.0</td>\n",
       "      <td>0.0</td>\n",
       "    </tr>\n",
       "  </tbody>\n",
       "</table>\n",
       "<p>5 rows × 65 columns</p>\n",
       "</div>"
      ],
      "text/plain": [
       "   air  bar  bathroom  battery  bay  black  board  cabinet  cable  ceiling  \\\n",
       "0  0.0  0.0       0.0      0.0  0.0    0.0    0.0      0.0    0.0      0.0   \n",
       "1  0.0  0.0       0.0      0.0  0.0    0.0    0.0      0.0    0.0      0.0   \n",
       "2  0.0  0.0       0.0      0.0  0.0    0.0    0.0      0.0    0.0      0.0   \n",
       "3  0.0  0.0       0.0      0.0  0.0    0.0    0.0      0.0    0.0      0.0   \n",
       "4  0.0  0.0       0.0      0.0  0.0    0.0    0.0      0.0    0.0      0.0   \n",
       "\n",
       "   ...  toilet  tool  tub  vinyl  wall  water  white  window  wire  wood  \n",
       "0  ...     0.0   0.0  0.0    0.0   0.0    0.0    0.0     0.0   0.0   0.0  \n",
       "1  ...     0.0   0.0  0.0    0.0   0.0    0.0    0.0     0.0   0.0   0.0  \n",
       "2  ...     0.0   0.0  0.0    0.0   0.0    0.0    0.0     0.0   0.0   1.0  \n",
       "3  ...     0.0   0.0  0.0    0.0   0.0    0.0    0.0     0.0   0.0   0.0  \n",
       "4  ...     0.0   0.0  0.0    0.0   0.0    0.0    0.0     0.0   0.0   0.0  \n",
       "\n",
       "[5 rows x 65 columns]"
      ]
     },
     "execution_count": 93,
     "metadata": {},
     "output_type": "execute_result"
    }
   ],
   "source": [
    "# TF-IDF\n",
    "\n",
    "tfidf = TfidfVectorizer(stop_words='english', min_df=0.005, max_df=0.5)\n",
    "irrelevant_search_words = tfidf.fit_transform(irrelevant_match.search_term)\n",
    "\n",
    "pd.DataFrame(irrelevant_search_words.toarray(), columns=tfidf.get_feature_names()).head()"
   ]
  },
  {
   "cell_type": "code",
   "execution_count": null,
   "metadata": {},
   "outputs": [],
   "source": [
    "search_unique_words = tfidf.fit_transform(irrelevant_match.search_term)"
   ]
  },
  {
   "cell_type": "code",
   "execution_count": 94,
   "metadata": {},
   "outputs": [],
   "source": [
    "# Create the term-document matrix\n",
    "# Transpose it so the terms are the rows\n",
    "doc_word = tfidf.transform(irrelevant_match.search_term).transpose()\n",
    "nmf_model = NMF(n_components=10, init='nndsvd', alpha=0.7)\n",
    "\n",
    "doc_topic = nmf_model.fit_transform(doc_word)\n",
    "\n",
    "# Convert sparse matrix of counts to a gensim corpus\n",
    "corpus = matutils.Sparse2Corpus(doc_word)\n",
    "\n",
    "id2word = dict((v, k) for k, v in tfidf.vocabulary_.items())\n",
    "\n",
    "# Create lda model\n",
    "lda = models.LdaModel(corpus=corpus, num_topics=10, id2word=id2word, passes=5)"
   ]
  },
  {
   "cell_type": "code",
   "execution_count": 95,
   "metadata": {},
   "outputs": [
    {
     "name": "stdout",
     "output_type": "stream",
     "text": [
      "topic 0\n",
      "['inch', 'home', 'tool', 'toilet', 'hose', 'pipe', 'round', 'black', 'pvc', 'water']\n",
      "topic 1\n",
      "['cabinet', 'steel', 'round', 'window', 'bathroom', 'filter', 'glass', 'kitchen', 'outdoor', 'tool']\n",
      "topic 2\n",
      "['tile', 'replacement', 'tub', 'vinyl', 'bay', 'parts', 'shower', 'floor', 'hose', 'wall']\n",
      "topic 3\n",
      "['water', 'pipe', 'cover', 'air', 'ceiling', 'panel', 'drain', 'stove', 'plastic', 'black']\n",
      "topic 4\n",
      "['metal', 'floor', 'battery', 'post', 'patio', 'grill', 'cover', 'outdoor', 'light', 'window']\n",
      "topic 5\n",
      "['wood', 'kit', 'glass', 'lights', 'electric', 'fence', 'cable', 'garden', 'screen', 'cover']\n",
      "topic 6\n",
      "['kitchen', 'doors', 'bar', 'table', 'garage', 'range', 'door', 'patio', 'glass', 'wood']\n",
      "topic 7\n",
      "['light', 'paint', 'plastic', 'storage', 'saw', 'board', 'ft', 'foot', 'heater', 'parts']\n",
      "topic 8\n",
      "['white', 'wire', 'black', 'gas', 'pvc', 'fan', 'outdoor', 'wood', 'door', 'ceiling']\n",
      "topic 9\n",
      "['door', 'wall', 'outdoor', 'shower', 'stove', 'gas', 'bathroom', 'heater', 'inch', 'cover']\n"
     ]
    }
   ],
   "source": [
    "for i in lda.show_topics(formatted=False):\n",
    "    x = len(i[1])\n",
    "    print ('topic %s' % i[0])\n",
    "    print ([i[1][j][0] for j in range(10)])"
   ]
  },
  {
   "cell_type": "markdown",
   "metadata": {
    "cell_style": "split"
   },
   "source": [
    "*Top **Irrelevant** Searched Topics:*\n",
    "1. Plumbing Parts & Repair\n",
    "2. Cabinet Accessories\n",
    "3. Shower Hoses\n",
    "4. Drain Grates & Plumbing\n",
    "5. Outdoor Wall Lighting\n",
    "6. Landscape Fabric & Supplies\n",
    "7. Interior Doors\n",
    "8. Paint Liners & Grids\n",
    "9. Ceiling Fans\n",
    "10. Patio Heater Cover"
   ]
  },
  {
   "cell_type": "code",
   "execution_count": null,
   "metadata": {},
   "outputs": [],
   "source": []
  }
 ],
 "metadata": {
  "kernelspec": {
   "display_name": "Python 3",
   "language": "python",
   "name": "python3"
  },
  "language_info": {
   "codemirror_mode": {
    "name": "ipython",
    "version": 3
   },
   "file_extension": ".py",
   "mimetype": "text/x-python",
   "name": "python",
   "nbconvert_exporter": "python",
   "pygments_lexer": "ipython3",
   "version": "3.6.9"
  },
  "toc": {
   "base_numbering": 1,
   "nav_menu": {},
   "number_sections": true,
   "sideBar": true,
   "skip_h1_title": false,
   "title_cell": "Table of Contents",
   "title_sidebar": "Contents",
   "toc_cell": false,
   "toc_position": {
    "height": "calc(100% - 180px)",
    "left": "10px",
    "top": "150px",
    "width": "288.196px"
   },
   "toc_section_display": true,
   "toc_window_display": true
  }
 },
 "nbformat": 4,
 "nbformat_minor": 2
}
